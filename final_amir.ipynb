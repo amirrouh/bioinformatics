{
 "cells": [
  {
   "cell_type": "markdown",
   "metadata": {},
   "source": [
    "# Cell Identification Using Deep Autoencoder and Support Vector Machine"
   ]
  },
  {
   "cell_type": "markdown",
   "metadata": {},
   "source": [
    "# 1-Introduction\n",
    "In the past few decades, deep learning neural networks have become one of the major tools for biomedical data analysis [1] such as medical images analysis [2] and bioinformatics [3]. Deep learning applications in bioinformatics has rapidly advanced since the early 2000s [3]. With increasing demand of big data analysis, different methods and applications were introduced for data compression which reduces the computation cost of the data analysis. Among such methods, image [4] and audio compression techniques have been widely used for decades [5]. Similar methods have been used to simplify gene expression profile (GEP) for further manipulation [6]. In this study, we focus on deep learning application in DNA sequencing compression using autoencoder.\n",
    "Autoencoders are unsupervised neural networks use machine leaning to compress the given data (encoder) and then generate samples similar to the given data (decoder). Convolutional autoencoders are being used to reduce dimension of input data or eliminate noise from the input data. Usually, nonlinear activation functions are used in autoencoder to decrease data loss during encoding. An autoencoder is able to give a representation of output for each layer. Loss function of autoencoder defines as the distance between decoded data and input data. During training of autoencoders, the loss function will be minimized."
   ]
  },
  {
   "cell_type": "markdown",
   "metadata": {},
   "source": [
    "# 2-Material and Method\n",
    "### Downloading gene expression profile from NCBI GEO\n",
    "This section parses the raw gene expression data obtained from NCBI website. First, the gene expression file is downloaded from the NCBI GEO ftp link:"
   ]
  },
  {
   "cell_type": "code",
   "execution_count": 1,
   "metadata": {},
   "outputs": [
    {
     "name": "stdout",
     "output_type": "stream",
     "text": [
      "GDS1615_full.soft.gz\n"
     ]
    }
   ],
   "source": [
    "import urllib\n",
    "link = 'ftp://ftp.ncbi.nlm.nih.gov/geo/datasets/GDS1nnn/GDS1615/soft/GDS1615_full.soft.gz'\n",
    "file_name = urllib.request.urlretrieve(link, link.split('/')[-1])[0]\n",
    "print(file_name)"
   ]
  },
  {
   "cell_type": "markdown",
   "metadata": {},
   "source": [
    "\n",
    "### Input the libraries\n",
    "gzip library is importet to handle compressed file downloaded from the NCBI website. numpy and pandas libraries are imported to manipulate gene expression array and input library is used for constant variables to simplify the code."
   ]
  },
  {
   "cell_type": "code",
   "execution_count": 2,
   "metadata": {},
   "outputs": [],
   "source": [
    "import gzip\n",
    "import numpy as np\n",
    "import pandas as pd\n",
    "from matplotlib.pyplot import plot as plt"
   ]
  },
  {
   "cell_type": "markdown",
   "metadata": {},
   "source": [
    "### Get subset description, subset index and gene expression data\n",
    "The 'data_train_set' function is used to read subset discription, subset type and gene expression values of the compressed file download from NCBI website.  The function then returns three numpy arrays for subset description (sd), subset index (si) and gene expression (ge) table respectively."
   ]
  },
  {
   "cell_type": "code",
   "execution_count": 3,
   "metadata": {},
   "outputs": [],
   "source": [
    "def read_geo(file_name, subset_description):\n",
    "    # Data input dimension to simplify is defined (None => imports all the genes unless number of genes are declared)\n",
    "    data_dim = None\n",
    "    with gzip.open(file_name, 'rt') as f:\n",
    "        #    sd: subset description\n",
    "        #    si: subset id\n",
    "        #    ge: gene expression\n",
    "        sd, si, ge = [], [], []\n",
    "        \n",
    "        #    Obtain subset description\n",
    "        for line in f:\n",
    "            if \"!subset_description\" in line:\n",
    "                sd.append(line.split('=')[1].strip())\n",
    "                \n",
    "            elif \"!subset_sample_id\" in line:\n",
    "                si.append(line.split('=')[1].strip().split(','))\n",
    "                \n",
    "            elif \"!dataset_table_begin\" in line:\n",
    "                break\n",
    "            \n",
    "        subset_number = sum(len(sd) for sd in si)\n",
    "            \n",
    "#        Read the gene info table\n",
    "\n",
    "        for line in f:\n",
    "            if \"!dataset_table_begin\" in line:\n",
    "                break            \n",
    "    \n",
    "            elif \"!dataset_table_end\" in line:\n",
    "                break\n",
    "    \n",
    "            ge.append(line.split()[:2 + subset_number])\n",
    "    \n",
    "    ge = pd.DataFrame(ge)\n",
    "    new_header = ge.iloc[0]\n",
    "    ge.columns = new_header\n",
    "    ge = ge[1:]\n",
    "    \n",
    "    return sd, si, ge"
   ]
  },
  {
   "cell_type": "markdown",
   "metadata": {},
   "source": [
    "### Rearrange sd, si and ge arrays and complete parsing\n",
    "Then, sd, si and ge arrays will be used to form a complete dataset with data and labels separated and prepared for further analysis:"
   ]
  },
  {
   "cell_type": "code",
   "execution_count": 4,
   "metadata": {},
   "outputs": [],
   "source": [
    "def data_train_test(file_name):\n",
    "    data_dim = None # indicated input data (if it is None it means all the gene expression values will be imported)\n",
    "    #   Reads subsets discribtion, indexes and the whole gene expression data\n",
    "    sd, si, ge = read_geo(file_name, 'all')\n",
    "\n",
    "    #   Separate data from the gene expression table\n",
    "    ge_array = np.array(ge)\n",
    "    d = ge_array[:, 2:].astype(float)\n",
    "\n",
    "    # Convert numpy array to training format for SVM solver\n",
    "    data = []\n",
    "    for i in range(len(d[0,:])):\n",
    "        data.append(d[:data_dim,i])\n",
    "    data = np.array(data)\n",
    "\n",
    "    #   Assign numbers to subset types and make a target vector for classification\n",
    "    labels = []\n",
    "    for i in range(0, len(sd)):\n",
    "        labels.append(len(si[i]) * [i])\n",
    "    \n",
    "    #   Merge the target groups (each type is a list in python, \n",
    "    #   this part merges the parts to have unit target vector)\n",
    "    label_tmp = []\n",
    "    for j in range(len(labels)):\n",
    "        label_tmp += labels[j]\n",
    "    labels = np.array(label_tmp)\n",
    "\n",
    "    # dimension of input gene expression\n",
    "    label_dimension = len(ge_array[0,2:])\n",
    "    labels = labels.reshape((label_dimension,1))\n",
    "\n",
    "\n",
    "    #   This line joins the data and labels as a new 2D array\n",
    "    dataset = np.concatenate((data, labels), axis=1)\n",
    "\n",
    "    #   This part randomly shuffles the data to be ready for training and testing purposes\n",
    "    np.random.shuffle(dataset)\n",
    "\n",
    "    return dataset"
   ]
  },
  {
   "cell_type": "code",
   "execution_count": 5,
   "metadata": {},
   "outputs": [
    {
     "name": "stdout",
     "output_type": "stream",
     "text": [
      "[[105.932     26.6538    61.4062   ...   9.10682    1.31412    2.      ]\n",
      " [ 69.0926    14.7126    34.7756   ...   4.72682    0.966992   2.      ]\n",
      " [ 64.713     29.6233    40.1533   ...   2.16422    0.698281   0.      ]\n",
      " ...\n",
      " [ 76.7187    27.5782    61.1081   ...   9.09038    2.06627    1.      ]\n",
      " [105.453     27.6385    25.647    ...   3.64447    2.9912     2.      ]\n",
      " [108.099     28.5333    80.1208   ...   6.51928    1.25663    0.      ]]\n"
     ]
    }
   ],
   "source": [
    "print(data_train_test(file_name))"
   ]
  },
  {
   "cell_type": "markdown",
   "metadata": {
    "colab_type": "text",
    "id": "f-OBnL4d79LQ"
   },
   "source": [
    "# Autoencoder to compress the gene expression data\n",
    "This following code is to build an autoencoder to compress the raw gene expression vectors and reconstruct them back into the similar gene expression distribution. Goal is to reduce gene expression dimension and simpliofy numerical manipulations needed for SVM classifier to determine which gene expression belongs to which type of cell.\n",
    "### The libraries needed for the analysis\n",
    "- tensorflow which handles the neral network analysis\n",
    "- matbplotlib for visualizations"
   ]
  },
  {
   "cell_type": "markdown",
   "metadata": {},
   "source": [
    "- keras which is a framework with tensor in backend:\n",
    "\n",
    "    - Input: function creates a placeholder for input variable which is case is one gene expression vector\n",
    "    - Dense: This function builds the network layers with desired number of nodes\n",
    "    - Model: We use this function builds the models for encoder part and autoencoder\n",
    "    - normalize: This function wil be used to normalize the input array before analysis"
   ]
  },
  {
   "cell_type": "code",
   "execution_count": 6,
   "metadata": {
    "scrolled": false
   },
   "outputs": [
    {
     "name": "stderr",
     "output_type": "stream",
     "text": [
      "Using TensorFlow backend.\n"
     ]
    }
   ],
   "source": [
    "from keras.layers import Input, Dense\n",
    "from keras.models import Model\n",
    "from keras.utils import normalize\n",
    "import keras"
   ]
  },
  {
   "cell_type": "markdown",
   "metadata": {},
   "source": [
    "### Here, database will be imported to the code:\n",
    "In this section, we read the data provided in another module which parses the raw gene expression file from the NCBI website."
   ]
  },
  {
   "cell_type": "markdown",
   "metadata": {},
   "source": [
    "Here, numpy library will be used for log(2) transformation of the input data before analysis."
   ]
  },
  {
   "cell_type": "markdown",
   "metadata": {},
   "source": [
    "Input gene expression array is imported (note that we don't import the labels here). Then $log(2)$ transform is applied on the input data and then they were normalized."
   ]
  },
  {
   "cell_type": "code",
   "execution_count": 7,
   "metadata": {
    "scrolled": false
   },
   "outputs": [],
   "source": [
    "dataset = data_train_test(file_name)\n",
    "data =np.log(dataset[:,:-1]) / np.log(2)\n",
    "data = normalize(data, axis=0, order=10)"
   ]
  },
  {
   "cell_type": "code",
   "execution_count": 8,
   "metadata": {},
   "outputs": [],
   "source": [
    "input_size = len(data[0, :])"
   ]
  },
  {
   "cell_type": "markdown",
   "metadata": {},
   "source": [
    "80% of input data is used for training and 20% for testing accuracy of the autoencoder model. "
   ]
  },
  {
   "cell_type": "code",
   "execution_count": 9,
   "metadata": {},
   "outputs": [
    {
     "name": "stdout",
     "output_type": "stream",
     "text": [
      "101\n"
     ]
    }
   ],
   "source": [
    "percent_80 = int(len(data[:, 0]) * 0.8)\n",
    "print(percent_80)"
   ]
  },
  {
   "cell_type": "code",
   "execution_count": 10,
   "metadata": {
    "scrolled": false
   },
   "outputs": [],
   "source": [
    "X_train = data[:percent_80,:input_size]\n",
    "L_train = dataset[:percent_80, -1]\n",
    "X_test = data [percent_80:,:input_size]\n",
    "L_test = dataset[percent_80:, -1]"
   ]
  },
  {
   "cell_type": "markdown",
   "metadata": {
    "colab_type": "text",
    "id": "Qyq1OIEm9KcT"
   },
   "source": [
    "### The neural network parameters\n",
    "Starting with learning parameter, batch size which is number of samples passing to the neural network at one time and epoch number determines how many times all the data will be passed through the network. The latent vector dimension is defined which indicates compressed version of the input gene expression."
   ]
  },
  {
   "cell_type": "code",
   "execution_count": 11,
   "metadata": {
    "colab": {},
    "colab_type": "code",
    "id": "I2w4_Pnp8_cx",
    "scrolled": false
   },
   "outputs": [],
   "source": [
    "epoch_size = 100\n",
    "batch_size = 1000\n",
    "latent_dim = 30"
   ]
  },
  {
   "cell_type": "markdown",
   "metadata": {},
   "source": [
    "The schematic view of the this neural network can be seen in the following figure:"
   ]
  },
  {
   "cell_type": "markdown",
   "metadata": {},
   "source": [
    "<img src=\"files\\fig_1.PNG\" height=\"500\" width=\"500\" class=\"center\">"
   ]
  },
  {
   "cell_type": "markdown",
   "metadata": {},
   "source": [
    "### Building the neural network layers\n",
    "#### Input layer\n",
    "First, we define the encoder section by defining input values as follows. The input shape will be flattened as a vector with input dimension.\"None\" means there are no data in this input, it is just a place holder."
   ]
  },
  {
   "cell_type": "code",
   "execution_count": 12,
   "metadata": {
    "scrolled": false
   },
   "outputs": [],
   "source": [
    "input_gene_expression = Input(shape=(input_size,))"
   ]
  },
  {
   "cell_type": "markdown",
   "metadata": {},
   "source": [
    "#### Encoder layer\n",
    "The encoder layer will connet input layer to the latent vector."
   ]
  },
  {
   "cell_type": "code",
   "execution_count": 13,
   "metadata": {
    "scrolled": false
   },
   "outputs": [
    {
     "name": "stdout",
     "output_type": "stream",
     "text": [
      "WARNING:tensorflow:From C:\\Users\\Amir\\Miniconda3\\lib\\site-packages\\tensorflow\\python\\framework\\op_def_library.py:263: colocate_with (from tensorflow.python.framework.ops) is deprecated and will be removed in a future version.\n",
      "Instructions for updating:\n",
      "Colocations handled automatically by placer.\n"
     ]
    }
   ],
   "source": [
    "encoded = Dense(latent_dim, activation='relu')(input_gene_expression)"
   ]
  },
  {
   "cell_type": "markdown",
   "metadata": {},
   "source": [
    "#### Decoder layer\n",
    "Decoder layer is defined same as encoder layer but, it connects latent space to the output layer. "
   ]
  },
  {
   "cell_type": "code",
   "execution_count": 14,
   "metadata": {
    "scrolled": false
   },
   "outputs": [],
   "source": [
    "decoded = Dense(input_size, activation ='sigmoid')(encoded)"
   ]
  },
  {
   "cell_type": "markdown",
   "metadata": {},
   "source": [
    "#### Autoencoder model\n",
    "The autoencoder model is created mapping input data to reconstructed data similar to the input."
   ]
  },
  {
   "cell_type": "code",
   "execution_count": 15,
   "metadata": {
    "scrolled": false
   },
   "outputs": [],
   "source": [
    "autoencoder = Model(input_gene_expression, decoded)"
   ]
  },
  {
   "cell_type": "markdown",
   "metadata": {},
   "source": [
    "#### Encoder model\n",
    "Encoder model is created to show the latent vectors"
   ]
  },
  {
   "cell_type": "code",
   "execution_count": 16,
   "metadata": {
    "scrolled": false
   },
   "outputs": [],
   "source": [
    "encoder = Model(input_gene_expression, encoded)"
   ]
  },
  {
   "cell_type": "markdown",
   "metadata": {},
   "source": [
    "### Loss function definition\n",
    "Loss function of variational autoencoder is defined as the distance between input and output (reconstructed input) user mean squared error dunction:\n",
    "\n",
    "Mean Squared Error $= \\frac{1}{n}\\sum_{i=1}^n.(X_i^2 - \\hat{X_i^2})$"
   ]
  },
  {
   "cell_type": "markdown",
   "metadata": {},
   "source": [
    "### Compiling the models\n",
    "The optimizer \"adam\" is then used to minimize the MSE function"
   ]
  },
  {
   "cell_type": "code",
   "execution_count": 17,
   "metadata": {
    "scrolled": false
   },
   "outputs": [],
   "source": [
    "autoencoder.compile(optimizer='adam', loss='mean_squared_error',metrics=['accuracy'])"
   ]
  },
  {
   "cell_type": "markdown",
   "metadata": {},
   "source": [
    "### Training the autoencoder model\n",
    "Network dimensions, batch and epoch sizes and training and testing datasets are used to train the model"
   ]
  },
  {
   "cell_type": "code",
   "execution_count": 18,
   "metadata": {},
   "outputs": [],
   "source": [
    "from IPython.display import clear_output\n",
    "from matplotlib import pyplot as plt\n",
    "\n",
    "\n",
    "class PlotLosses(keras.callbacks.Callback):\n",
    "    def on_train_begin(self, logs={}):\n",
    "        self.i = 0\n",
    "        self.x = []\n",
    "        self.losses = []\n",
    "        self.val_losses = []\n",
    "        \n",
    "        self.fig = plt.figure()\n",
    "        \n",
    "        self.logs = []\n",
    "\n",
    "    def on_epoch_end(self, epoch, logs={}):\n",
    "        \n",
    "        self.logs.append(logs)\n",
    "        self.x.append(self.i)\n",
    "        self.losses.append(logs.get('loss'))\n",
    "        self.val_losses.append(logs.get('val_loss'))\n",
    "        self.i += 1\n",
    "        \n",
    "        clear_output(wait=True)\n",
    "        plt.plot(self.x, self.losses, label=\"loss\")\n",
    "#         plt.plot(self.x, self.val_losses, label=\"val_loss\")\n",
    "        plt.xlabel('Epoch number')\n",
    "        plt.ylabel('MSE value')\n",
    "        plt.legend()\n",
    "        plt.show();\n",
    "        \n",
    "plot_losses = PlotLosses()"
   ]
  },
  {
   "cell_type": "code",
   "execution_count": 19,
   "metadata": {
    "scrolled": true
   },
   "outputs": [
    {
     "data": {
      "image/png": "[encoded data removed]",
      "text/plain": [
       "<Figure size 432x288 with 1 Axes>"
      ]
     },
     "metadata": {
      "needs_background": "light"
     },
     "output_type": "display_data"
    },
    {
     "data": {
      "text/plain": [
       "<keras.callbacks.History at 0x24d9dc9f710>"
      ]
     },
     "execution_count": 19,
     "metadata": {},
     "output_type": "execute_result"
    }
   ],
   "source": [
    "autoencoder.fit(X_train, X_train, epochs=epoch_size, batch_size=batch_size, \\\n",
    "                shuffle=True, callbacks=[PlotLosses()], validation_data=(X_test, X_test), verbose=1)"
   ]
  },
  {
   "cell_type": "markdown",
   "metadata": {},
   "source": [
    "#### Note: (To avoid overfitting)\n",
    "According to the loss function graph, when the loss function value converges, training process is interrupted."
   ]
  },
  {
   "cell_type": "markdown",
   "metadata": {},
   "source": [
    "# 3-Results and Discussion\n",
    "In this section the first five values of the first randomly picked original gene expression is shown. And the latent vector representing that egpression is represented. Then the corresping reconstruction of gene expression is shown to compare with the original raw input. As it can be seen, the latent vector's dimension is reduced and duruing decoding, part of information is lost. "
   ]
  },
  {
   "cell_type": "code",
   "execution_count": 20,
   "metadata": {
    "scrolled": false
   },
   "outputs": [
    {
     "name": "stdout",
     "output_type": "stream",
     "text": [
      "First 10 values of the raw gene expression data:\n",
      " [0.65889387 0.61537757 0.49839267 0.64802145 0.63181147 0.54529577\n",
      " 0.61839145 0.26945971 0.60349601 0.71809828] \n",
      "\n",
      "Latent vector:\n",
      " [-0.       -0.       -0.       -0.       -0.       -0.       -0.\n",
      " -0.       -0.       -0.       -0.       -0.       -0.       -0.\n",
      " -0.       -0.       -0.       -0.       28.093348 -0.       -0.\n",
      " -0.       -0.       -0.       -0.       -0.       -0.       -0.\n",
      " -0.       -0.      ] \n",
      "\n",
      "First 10 values of the reconstructed gene expression data:\n",
      " [0.57747495 0.56795114 0.5582078  0.57978284 0.5137652  0.5750063\n",
      " 0.56749773 0.45039552 0.57285774 0.5429579 ]\n"
     ]
    }
   ],
   "source": [
    "latent = encoder.predict(X_test)\n",
    "reconstructed = autoencoder.predict(X_test)\n",
    "i = 1\n",
    "\n",
    "print('First 10 values of the raw gene expression data:\\n', X_test[i][:10], '\\n')\n",
    "print('Latent vector:\\n', latent[i], '\\n')\n",
    "print('First 10 values of the reconstructed gene expression data:\\n', reconstructed[i][:10])"
   ]
  },
  {
   "cell_type": "markdown",
   "metadata": {},
   "source": [
    "# Support Vector Machine for Cell Type Classiffication"
   ]
  },
  {
   "cell_type": "markdown",
   "metadata": {},
   "source": [
    "SVM method in 'sklean' python module will be used for SVM classification during this project."
   ]
  },
  {
   "cell_type": "code",
   "execution_count": 21,
   "metadata": {},
   "outputs": [],
   "source": [
    "from sklearn import svm"
   ]
  },
  {
   "cell_type": "markdown",
   "metadata": {},
   "source": [
    "The following function will classify cell type. The input is the reconstructed gene expression vector obtained from the previous section and the is a corresponding subset type. It classifier is trained with 80% of the data and the 20% of rest of the data is for validation. "
   ]
  },
  {
   "cell_type": "code",
   "execution_count": 22,
   "metadata": {},
   "outputs": [],
   "source": [
    "def cell_classifier(input):\n",
    "    model = svm.SVC(gamma=0.0001, C=10000.)\n",
    "    model.fit(X_train, L_train)\n",
    "    output = model.predict(input)\n",
    "    return output"
   ]
  },
  {
   "cell_type": "markdown",
   "metadata": {},
   "source": [
    "## Comparison\n",
    "The following two vectors show the original and reconstructed cell types. \n",
    "### Test labels"
   ]
  },
  {
   "cell_type": "code",
   "execution_count": 23,
   "metadata": {},
   "outputs": [
    {
     "name": "stdout",
     "output_type": "stream",
     "text": [
      "[0. 2. 0. 2. 2. 2. 2. 0. 0. 0. 0. 0. 0. 2. 2. 2. 2. 1. 2. 2. 2. 1. 0. 0.\n",
      " 2. 2.]\n"
     ]
    }
   ],
   "source": [
    "print(cell_classifier(X_test))"
   ]
  },
  {
   "cell_type": "markdown",
   "metadata": {},
   "source": [
    "### Predicted labels"
   ]
  },
  {
   "cell_type": "code",
   "execution_count": 24,
   "metadata": {},
   "outputs": [
    {
     "name": "stdout",
     "output_type": "stream",
     "text": [
      "[0. 2. 0. 2. 1. 2. 2. 0. 0. 0. 2. 2. 0. 2. 2. 2. 2. 1. 2. 2. 2. 1. 0. 2.\n",
      " 2. 2.]\n"
     ]
    }
   ],
   "source": [
    "\n",
    "print(L_test)"
   ]
  },
  {
   "cell_type": "markdown",
   "metadata": {},
   "source": [
    "### Accuracy\n",
    "Accuracy of code is evaluated using the percentage of misclassification made by the SMV solver:"
   ]
  },
  {
   "cell_type": "code",
   "execution_count": 25,
   "metadata": {},
   "outputs": [
    {
     "name": "stdout",
     "output_type": "stream",
     "text": [
      "Accuracy: 84.61538461538461 %\n"
     ]
    }
   ],
   "source": [
    "match_number = 0\n",
    "for i in range(len(L_test)):\n",
    "    if cell_classifier(X_test)[i] == L_test[i]:\n",
    "        match_number += 1\n",
    "acc = match_number / len(L_test)\n",
    "print('Accuracy: {}'.format(acc * 100), '%')"
   ]
  },
  {
   "cell_type": "code",
   "execution_count": null,
   "metadata": {},
   "outputs": [],
   "source": []
  }
 ],
 "metadata": {
  "kernelspec": {
   "display_name": "Python 3",
   "language": "python",
   "name": "python3"
  },
  "language_info": {
   "codemirror_mode": {
    "name": "ipython",
    "version": 3
   },
   "file_extension": ".py",
   "mimetype": "text/x-python",
   "name": "python",
   "nbconvert_exporter": "python",
   "pygments_lexer": "ipython3",
   "version": "3.7.1"
  }
 },
 "nbformat": 4,
 "nbformat_minor": 2
}
